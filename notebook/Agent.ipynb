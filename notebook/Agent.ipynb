{
 "cells": [
  {
   "cell_type": "markdown",
   "id": "a86c82d2-6c72-4c53-909b-1618c42a9139",
   "metadata": {},
   "source": [
    "### Asistant Agent"
   ]
  },
  {
   "cell_type": "code",
   "execution_count": 1,
   "id": "633159c2-a357-4b5c-b5bf-8ef534fa4c71",
   "metadata": {},
   "outputs": [],
   "source": [
    "from autogen_agentchat.agents import AssistantAgent\n",
    "from autogen_agentchat.messages import TextMessage\n",
    "from autogen_agentchat.ui import Console\n",
    "from autogen_core import CancellationToken \n",
    "from autogen_ext.models.openai import OpenAIChatCompletionClient\n"
   ]
  },
  {
   "cell_type": "code",
   "execution_count": 2,
   "id": "7bb409fd-d665-4202-b24b-f9808f010f36",
   "metadata": {},
   "outputs": [],
   "source": [
    "# Define a tool that searches the web for information\n",
    "async def web_search(query: str) -> str:\n",
    "    \"\"\"Find information on the web\"\"\"\n",
    "    return \"AutoGen is a programming framework for building multi-agent applications.\"\n",
    "\n",
    "model = OpenAIChatCompletionClient(model=\"gpt-4o\")\n"
   ]
  },
  {
   "cell_type": "code",
   "execution_count": 3,
   "id": "c714046c-ba59-4159-87cc-c436028daa63",
   "metadata": {},
   "outputs": [],
   "source": [
    "agent = AssistantAgent(\n",
    "    name=\"assistant\",\n",
    "    model_client=model,\n",
    "    tools=[web_search],\n",
    "    reflect_on_tool_use=True,\n",
    "    system_message=\"Use tools to solve tasks\"\n",
    ")"
   ]
  },
  {
   "cell_type": "code",
   "execution_count": 4,
   "id": "f8b598e6-be83-4c34-8c2a-741995f0041f",
   "metadata": {},
   "outputs": [],
   "source": [
    "async def assistant_run() -> None:\n",
    "    response = await agent.on_messages(\n",
    "        [TextMessage(content=\"Find information on AutoGen\", source=\"user\")],\n",
    "        cancellation_token=CancellationToken())\n",
    "    print(response.inner_messages)\n",
    "    print(response.chat_message)"
   ]
  },
  {
   "cell_type": "code",
   "execution_count": 5,
   "id": "2dc932f7-ab94-43da-9223-d8ae0129f77c",
   "metadata": {},
   "outputs": [
    {
     "name": "stdout",
     "output_type": "stream",
     "text": [
      "[ToolCallRequestEvent(source='assistant', models_usage=RequestUsage(prompt_tokens=61, completion_tokens=17), content=[FunctionCall(id='call_73VZgHMYJD2Bfa1PqFHVv9mI', arguments='{\"query\":\"AutoGen information\"}', name='web_search')], type='ToolCallRequestEvent'), ToolCallExecutionEvent(source='assistant', models_usage=None, content=[FunctionExecutionResult(content='AutoGen is a programming framework for building multi-agent applications.', call_id='call_73VZgHMYJD2Bfa1PqFHVv9mI')], type='ToolCallExecutionEvent')]\n",
      "source='assistant' models_usage=RequestUsage(prompt_tokens=60, completion_tokens=32) content='AutoGen is a programming framework designed for creating multi-agent applications. If you need more specific information or details about its features and usage, let me know!' type='TextMessage'\n"
     ]
    }
   ],
   "source": [
    "await assistant_run()"
   ]
  },
  {
   "cell_type": "code",
   "execution_count": 6,
   "id": "ff95c6fe-8180-40ed-8122-8b81e68512f2",
   "metadata": {},
   "outputs": [],
   "source": [
    "async def assistant_run_stream() -> None:\n",
    "    await Console(\n",
    "        agent.on_messages_stream(\n",
    "            [TextMessage(content=\"Find information on AutoGen\",source=\"user\")],\n",
    "            cancellation_token=CancellationToken()\n",
    "        )\n",
    "    )"
   ]
  },
  {
   "cell_type": "code",
   "execution_count": 7,
   "id": "b80f0833-9b76-45a3-8fb9-54f33047c2f4",
   "metadata": {},
   "outputs": [
    {
     "name": "stdout",
     "output_type": "stream",
     "text": [
      "---------- assistant ----------\n",
      "[FunctionCall(id='call_d7P2t2tRqsF9LvbX4u5nT0VV', arguments='{\"query\":\"AutoGen\"}', name='web_search')]\n",
      "---------- assistant ----------\n",
      "[FunctionExecutionResult(content='AutoGen is a programming framework for building multi-agent applications.', call_id='call_d7P2t2tRqsF9LvbX4u5nT0VV')]\n",
      "---------- assistant ----------\n",
      "AutoGen is a programming framework used for constructing multi-agent applications. If you have any specific questions about it or need more detailed information, feel free to ask!\n"
     ]
    }
   ],
   "source": [
    "await assistant_run_stream()"
   ]
  },
  {
   "cell_type": "markdown",
   "id": "d181091c-ff6b-4aa0-ab44-b911827546f9",
   "metadata": {},
   "source": [
    "### Langchain Tools"
   ]
  },
  {
   "cell_type": "code",
   "execution_count": 8,
   "id": "e8d5f9a8-11f1-4f19-ac98-c087eab09d12",
   "metadata": {},
   "outputs": [],
   "source": [
    "import pandas as pd\n",
    "from autogen_ext.tools.langchain import LangChainToolAdapter\n",
    "from langchain_experimental.tools.python.tool import PythonAstREPLTool"
   ]
  },
  {
   "cell_type": "code",
   "execution_count": 9,
   "id": "e22fe680-4c9a-431e-aaaf-f33501f14d19",
   "metadata": {},
   "outputs": [],
   "source": [
    "df = pd.read_csv(\"https://raw.githubusercontent.com/pandas-dev/pandas/main/doc/data/titanic.csv\")\n",
    "tool = LangChainToolAdapter(PythonAstREPLTool(locals={\"df\": df}))\n",
    "model_client = OpenAIChatCompletionClient(model=\"gpt-4o\")\n",
    "agent = AssistantAgent(\n",
    "    \"assistant\",\n",
    "    tools=[tool],\n",
    "    model_client=model_client,\n",
    "    system_message=\"Use the 'df' variable to access the dataset.\"\n",
    ")"
   ]
  },
  {
   "cell_type": "code",
   "execution_count": 10,
   "id": "bad54145-98c2-45ae-a9d2-d9ce2cc5e3ca",
   "metadata": {},
   "outputs": [
    {
     "name": "stdout",
     "output_type": "stream",
     "text": [
      "---------- assistant ----------\n",
      "[FunctionCall(id='call_srAKQj23KJSZ23p7no7T8RVg', arguments='{\"query\":\"df[\\'Age\\'].mean()\"}', name='python_repl_ast')]\n",
      "---------- assistant ----------\n",
      "[FunctionExecutionResult(content='29.69911764705882', call_id='call_srAKQj23KJSZ23p7no7T8RVg')]\n",
      "---------- assistant ----------\n",
      "29.69911764705882\n"
     ]
    },
    {
     "data": {
      "text/plain": [
       "Response(chat_message=ToolCallSummaryMessage(source='assistant', models_usage=None, content='29.69911764705882', type='ToolCallSummaryMessage'), inner_messages=[ToolCallRequestEvent(source='assistant', models_usage=RequestUsage(prompt_tokens=111, completion_tokens=22), content=[FunctionCall(id='call_srAKQj23KJSZ23p7no7T8RVg', arguments='{\"query\":\"df[\\'Age\\'].mean()\"}', name='python_repl_ast')], type='ToolCallRequestEvent'), ToolCallExecutionEvent(source='assistant', models_usage=None, content=[FunctionExecutionResult(content='29.69911764705882', call_id='call_srAKQj23KJSZ23p7no7T8RVg')], type='ToolCallExecutionEvent')])"
      ]
     },
     "execution_count": 10,
     "metadata": {},
     "output_type": "execute_result"
    }
   ],
   "source": [
    "await Console(\n",
    "    agent.on_messages_stream(\n",
    "        [TextMessage(content=\"What's the average age of the passengers?\", source=\"user\")],\n",
    "        CancellationToken())\n",
    ")"
   ]
  },
  {
   "cell_type": "markdown",
   "id": "13416bc1-845f-40b8-8e32-1619d4a51000",
   "metadata": {},
   "source": [
    "### Structured Output"
   ]
  },
  {
   "cell_type": "code",
   "execution_count": 11,
   "id": "358acdc5-9498-4fcd-8d96-b582c784fb98",
   "metadata": {},
   "outputs": [],
   "source": [
    "from typing import Literal\n",
    "from pydantic import BaseModel"
   ]
  },
  {
   "cell_type": "code",
   "execution_count": 12,
   "id": "c0dc5cb7-9615-40c6-b446-89460a796443",
   "metadata": {},
   "outputs": [],
   "source": [
    "class AgentResponse(BaseModel):\n",
    "    thought: str\n",
    "    response: Literal[\"happy\",\"sad\",\"neutral\"]"
   ]
  },
  {
   "cell_type": "code",
   "execution_count": 13,
   "id": "06a9b2c4-f29b-45b0-8001-1adafc4f0b44",
   "metadata": {},
   "outputs": [],
   "source": [
    "# Create an agent that uses the OpenAI GPT-4o model with the custom response format.\n",
    "model_client = OpenAIChatCompletionClient(model=\"gpt-4o\",response_format=AgentResponse)"
   ]
  },
  {
   "cell_type": "code",
   "execution_count": 14,
   "id": "f9f13801-6008-4ac9-b135-4775084036d7",
   "metadata": {},
   "outputs": [],
   "source": [
    "agent = AssistantAgent(\n",
    "    \"assistant\",\n",
    "    model_client=model_client,\n",
    "    system_message=\"Categorize the input as happy,sad, or neutral following the JSON format.\",\n",
    ")"
   ]
  },
  {
   "cell_type": "code",
   "execution_count": 15,
   "id": "c8e7d083-8664-45da-b0bc-335901ff9e31",
   "metadata": {},
   "outputs": [
    {
     "name": "stdout",
     "output_type": "stream",
     "text": [
      "---------- user ----------\n",
      "I am happy\n",
      "---------- assistant ----------\n",
      "{\"thought\":\"The user expressed a clear positive emotion by explicitly stating their happiness.\",\"response\":\"happy\"}\n"
     ]
    },
    {
     "data": {
      "text/plain": [
       "TaskResult(messages=[TextMessage(source='user', models_usage=None, content='I am happy', type='TextMessage'), TextMessage(source='assistant', models_usage=RequestUsage(prompt_tokens=86, completion_tokens=21), content='{\"thought\":\"The user expressed a clear positive emotion by explicitly stating their happiness.\",\"response\":\"happy\"}', type='TextMessage')], stop_reason=None)"
      ]
     },
     "execution_count": 15,
     "metadata": {},
     "output_type": "execute_result"
    }
   ],
   "source": [
    "await Console(agent.run_stream(task=\"I am happy\"))"
   ]
  },
  {
   "cell_type": "markdown",
   "id": "09e3cbd4-af59-4ebb-928e-c7ba9ebce2e6",
   "metadata": {},
   "source": [
    "### UserProxyAgent"
   ]
  },
  {
   "cell_type": "code",
   "execution_count": 16,
   "id": "de540529-ddd4-4749-8a4b-ae5c18cc7655",
   "metadata": {},
   "outputs": [],
   "source": [
    "import asyncio\n",
    "from autogen_core import CancellationToken\n",
    "from autogen_agentchat.agents import UserProxyAgent\n",
    "from autogen_agentchat.messages import TextMessage"
   ]
  },
  {
   "cell_type": "code",
   "execution_count": 17,
   "id": "53e98ae6-0c4d-44b3-b729-cd634a1514b4",
   "metadata": {},
   "outputs": [],
   "source": [
    "async def simple_user_agent():\n",
    "    agent = UserProxyAgent(\"user_proxy\")\n",
    "    response = await asyncio.create_task(\n",
    "        agent.on_messages(\n",
    "            [TextMessage(content=\"What is your Name? \",source=\"user\")],\n",
    "            cancellation_token=CancellationToken(),\n",
    "        )\n",
    "    )\n",
    "    print(f\"Your name is {response.chat_message.content}\")\n",
    "    "
   ]
  },
  {
   "cell_type": "code",
   "execution_count": 20,
   "id": "e8110464-1353-4728-a06e-10bc719c43bd",
   "metadata": {},
   "outputs": [
    {
     "name": "stdin",
     "output_type": "stream",
     "text": [
      "Enter your response:  joni\n"
     ]
    },
    {
     "name": "stdout",
     "output_type": "stream",
     "text": [
      "Your name is joni\n"
     ]
    }
   ],
   "source": [
    "await simple_user_agent()"
   ]
  },
  {
   "cell_type": "markdown",
   "id": "58d9df59-e73c-40e4-bdcb-f8d3b4c92c52",
   "metadata": {},
   "source": [
    "### VideoSurfer"
   ]
  },
  {
   "cell_type": "code",
   "execution_count": 21,
   "id": "b25e261d-eca1-4383-b503-f71d73525dbc",
   "metadata": {},
   "outputs": [],
   "source": [
    "import asyncio\n",
    "from autogen_agentchat.ui import Console\n",
    "from autogen_agentchat.teams import MagenticOneGroupChat\n",
    "from autogen_agentchat.agents import UserProxyAgent\n",
    "from autogen_ext.models.openai import OpenAIChatCompletionClient\n",
    "from autogen_ext.agents.video_surfer import VideoSurfer"
   ]
  },
  {
   "cell_type": "code",
   "execution_count": 22,
   "id": "72f020f5-5639-4607-a784-7dd6e41ef5c9",
   "metadata": {},
   "outputs": [],
   "source": [
    "async def main() -> None:\n",
    "    \"\"\"Main function to run the video agent.\n",
    "    \"\"\"\n",
    "    model_client = OpenAIChatCompletionClient(model=\"gpt-4o-2024-08-06\")\n",
    "\n",
    "    # Define an agent\n",
    "    video_agent = VideoSurfer(\n",
    "        name=\"VideoSurfer\",\n",
    "        model_client=model_client\n",
    "    )\n",
    "\n",
    "    web_surfer_agent = UserProxyAgent(\n",
    "        name=\"User\"\n",
    "    )\n",
    "\n",
    "    # Define a team\n",
    "    agent_team = MagenticOneGroupChat([web_surfer_agent, video_agent],  model_client=model_client,)\n",
    "\n",
    "    # Run the team and stream messages to the console\n",
    "    stream = agent_team.run_stream(task=\"Find a latest video about magnestic one on youtube and extract quotes from it that make sense.\")\n",
    "    await Console(stream)\n"
   ]
  },
  {
   "cell_type": "code",
   "execution_count": null,
   "id": "04ca6ee0-c1b3-474a-940c-16f6db4f6f4c",
   "metadata": {},
   "outputs": [
    {
     "name": "stdout",
     "output_type": "stream",
     "text": [
      "---------- user ----------\n",
      "Find a latest video about magnestic one on youtube and extract quotes from it that make sense.\n",
      "---------- MagenticOneOrchestrator ----------\n",
      "\n",
      "We are working to address the following user request:\n",
      "\n",
      "Find a latest video about magnestic one on youtube and extract quotes from it that make sense.\n",
      "\n",
      "\n",
      "To answer this request we have assembled the following team:\n",
      "\n",
      "User: A human user\n",
      "VideoSurfer: An agent that can answer questions about a local video.\n",
      "\n",
      "\n",
      "Here is an initial fact sheet to consider:\n",
      "\n",
      "1. GIVEN OR VERIFIED FACTS\n",
      "   - The request involves finding a video about \"magentic one\" on YouTube.\n",
      "   - The task includes extracting quotes from that video.\n",
      "\n",
      "2. FACTS TO LOOK UP\n",
      "   - Whether there is a company, product, or topic specifically known as \"magentic one.\" This might be found via a search engine or directly on YouTube.\n",
      "   - Identify the latest available video related to \"magentic one\" on YouTube.\n",
      "\n",
      "3. FACTS TO DERIVE\n",
      "   - Determine what aspects of the content could constitute meaningful quotes. This may involve understanding the context or themes presented in the video.\n",
      "\n",
      "4. EDUCATED GUESSES\n",
      "   - The request likely contains a typo, where \"magentic one\" might have been meant to be \"magnetic one.\"\n",
      "   - Based on context, the request could involve a tech product, service, or an entirely different area such as a marketing campaign, if \"magentic one\" is a name not widely recognized.\n",
      "\n",
      "\n",
      "Here is the plan to follow as best as possible:\n",
      "\n",
      "- User: Verify the intended target by checking for the term \"magentic one\" or \"magnetic one\" on YouTube to ensure the correct entity or topic is being investigated.\n",
      "- User: Download or specify the latest relevant video based on the search results.\n",
      "- VideoSurfer: Use VideoSurfer to analyze the provided local video file.\n",
      "- VideoSurfer: Extract meaningful quotes from the video that align with the context or themes discussed.\n",
      "- User: Review and refine the extracted quotes to ensure they make sense and are relevant to the request.\n",
      "\n",
      "---------- MagenticOneOrchestrator ----------\n",
      "Please search for the term 'magentic one' or consider if 'magnetic one' might be the intended term on YouTube. Identify and download the latest relevant video that matches the correct term. This will allow VideoSurfer to analyze and extract quotes from it.\n"
     ]
    },
    {
     "name": "stdin",
     "output_type": "stream",
     "text": [
      "Enter your response:  https://www.youtube.com/watch?v=23urWKmHS6o\n"
     ]
    },
    {
     "name": "stdout",
     "output_type": "stream",
     "text": [
      "---------- User ----------\n",
      "https://www.youtube.com/watch?v=23urWKmHS6o\n",
      "---------- MagenticOneOrchestrator ----------\n",
      "Please analyze the provided video URL 'https://www.youtube.com/watch?v=23urWKmHS6o' and extract quotes that are meaningful and relevant.\n",
      "---------- VideoSurfer ----------\n",
      "I am unable to directly access or download YouTube videos. You will need to download the video to your local system first. Once you have the video file available locally, please provide the file path so that I can proceed with the analysis and quote extraction.\n",
      "---------- MagenticOneOrchestrator ----------\n",
      "Please download the video from 'https://www.youtube.com/watch?v=23urWKmHS6o' onto your local system, and then provide the local file path for analysis.\n"
     ]
    },
    {
     "name": "stdin",
     "output_type": "stream",
     "text": [
      "Enter your response:  using mmped\n"
     ]
    },
    {
     "name": "stdout",
     "output_type": "stream",
     "text": [
      "---------- User ----------\n",
      "using mmped\n",
      "---------- MagenticOneOrchestrator ----------\n",
      "Please provide the local file path of the video once you have downloaded it for analysis.\n",
      "---------- VideoSurfer ----------\n",
      "Please provide the local file path for the video you have downloaded, so I can proceed with transcribing and extracting quotes from it.\n",
      "---------- MagenticOneOrchestrator ----------\n",
      "Please provide the local file path for the video you have downloaded so I can analyze it and extract quotes.\n"
     ]
    },
    {
     "name": "stdin",
     "output_type": "stream",
     "text": [
      "Enter your response:  open in desktop\n"
     ]
    },
    {
     "name": "stdout",
     "output_type": "stream",
     "text": [
      "---------- User ----------\n",
      "open in desktop\n",
      "---------- MagenticOneOrchestrator ----------\n",
      "Please download the video from the provided URL, and then share the local file path here for analysis.\n"
     ]
    }
   ],
   "source": [
    "await main()"
   ]
  },
  {
   "cell_type": "markdown",
   "id": "2243882a-5935-41e8-982e-0160b3e041e5",
   "metadata": {},
   "source": [
    "#### Team"
   ]
  },
  {
   "cell_type": "code",
   "execution_count": 2,
   "id": "fab8b0ec-aa90-4365-a79f-d153f7e5f0e0",
   "metadata": {},
   "outputs": [],
   "source": [
    "import asyncio\n",
    "from autogen_agentchat.agents import AssistantAgent\n",
    "from autogen_agentchat.base import TaskResult\n",
    "from autogen_agentchat.conditions import ExternalTermination, TextMentionTermination\n",
    "from autogen_agentchat.teams import RoundRobinGroupChat\n",
    "from autogen_agentchat.ui import Console\n",
    "from autogen_ext.models.openai import OpenAIChatCompletionClient\n",
    "\n",
    "# Create an OpenAI model client.\n",
    "model_client = OpenAIChatCompletionClient(\n",
    "    model=\"gpt-4o-2024-08-06\",\n",
    ")\n",
    "\n",
    "# Create the primary agent.\n",
    "primary_agent = AssistantAgent(\n",
    "    \"primary\",\n",
    "    model_client=model_client,\n",
    "    system_message=\"You are a helpful AI assistant.\",\n",
    ")\n",
    "\n",
    "# Create the critic agent.\n",
    "critic_agent = AssistantAgent(\n",
    "    \"critic\",\n",
    "    model_client=model_client,\n",
    "    system_message=\"Provide constructive feedback. Respond with 'APPROVE' to when your feedbacks are addressed.\",\n",
    ")\n",
    "\n",
    "# Define a termination condition that stops the task if the critic approves.\n",
    "text_termination = TextMentionTermination(\"APPROVE\")\n",
    "\n",
    "# create a team with the primary and critic agents.\n",
    "team = RoundRobinGroupChat([primary_agent,critic_agent],termination_condition=text_termination)\n"
   ]
  },
  {
   "cell_type": "code",
   "execution_count": 3,
   "id": "ecbdc31f-af3f-4cb2-b30d-a40f55bf7248",
   "metadata": {},
   "outputs": [
    {
     "data": {
      "text/plain": [
       "TaskResult(messages=[TextMessage(source='user', models_usage=None, content='Write a short poem about the fall season.', type='TextMessage'), TextMessage(source='primary', models_usage=RequestUsage(prompt_tokens=28, completion_tokens=137), content=\"Leaves of amber, gold, and red,  \\nWhisper secrets that they spread,  \\nCrisp air dances, brisk and clear,  \\nHeralding that fall is near.  \\n\\nPumpkin patches plump and bright,  \\nHarvest moon with glowing light,  \\nSweaters warm and cider sweet,  \\nCrunch of leaves beneath our feet.  \\n\\nAutumn's palette paints the trees,  \\nWith a gentle, cooling breeze,  \\nNature's quilt in vibrant hue,  \\nBid the summer sun adieu.  \\n\\nIn this season's fleeting grace,  \\nTime slows down its hurried pace,  \\nFall’s embrace, a tender call,  \\nTo savor beauty in the fall.  \", type='TextMessage'), TextMessage(source='critic', models_usage=RequestUsage(prompt_tokens=182, completion_tokens=291), content='This poem beautifully captures the essence of the fall season through vivid imagery and sensory experiences. Here are a few areas where it excels and some suggestions for further enhancement:\\n\\n**Strengths:**\\n1. **Imagery:** The use of imagery with phrases like \"Leaves of amber, gold, and red\" and \"Pumpkin patches plump and bright\" paints a vivid picture in the reader\\'s mind.\\n2. **Sensory Elements:** Incorporating sounds and textures, such as \"Crunch of leaves beneath our feet,\" effectively engages multiple senses.\\n3. **Rhyme and Rhythm:** The poem possesses a pleasing rhyme scheme and rhythm, making it enjoyable to read aloud.\\n\\n**Suggestions for Enhancement:**\\n1. **Metaphors and Similes:** Incorporating more metaphors or similes could deepen the imagery. For example, comparing the harvest moon to a lantern lighting up the night might add richness.\\n2. **Emotional Connection:** While the poem describes the beauty of fall, adding a personal perspective or emotional layer could create a stronger connection with the reader. Consider how the speaker personally relates to fall.\\n3. **Cultural Aspects:** Mentioning some cultural or communal activities related to autumn, like Thanksgiving or Halloween, might add a layer of relatability.\\n\\nOverall, the poem is well-crafted and captures the beauty of fall. With the addition of more literary devices or personal touches, it could become even more resonant. Great work!', type='TextMessage'), TextMessage(source='primary', models_usage=RequestUsage(prompt_tokens=466, completion_tokens=205), content=\"Thank you for your insightful feedback! I appreciate the suggestions and will incorporate them to deepen the poem. Here's an enhanced version:\\n\\nLeaves of amber, gold, and red,  \\nNature’s quilt for earth’s warm bed,  \\nCrisp air speaks in whispers light,  \\nHarvest moon, a lantern bright.  \\n\\nPumpkin patches plump and ripe,  \\nCider sweet with cinnamon’s stripe,  \\nSweaters snug in autumn’s keep,  \\nBeneath our feet, leaves pile deep.  \\n\\nAutumn’s canvas in rich array,  \\nA gentle sigh as day fades gray,  \\nSimmered sunsets, fireside tales,  \\nIn chilly air, a hint of gales.  \\n\\nChildren laugh in ghostly guise,  \\nThankful hearts and pumpkin pies,  \\nAs seasons dance, hear fall's call,  \\nShared moments cherished, one and all.  \\n\\nI hope this version brings an enriched depiction of fall, drawing on more metaphoric language and personal connections. Thank you again for your thoughtful critique!\", type='TextMessage'), TextMessage(source='critic', models_usage=RequestUsage(prompt_tokens=688, completion_tokens=210), content='This revised version of the poem beautifully enhances the original by incorporating more vivid metaphoric language and personal connections. Here’s some feedback on the improved elements:\\n\\n**Strengths:**\\n1. **Metaphoric Language:** The inclusion of metaphors like \"Nature’s quilt for earth’s warm bed\" and \"Harvest moon, a lantern bright\" adds depth and invokes a richer imagery.\\n2. **Emotional and Cultural Connection:** Lines such as \"Children laugh in ghostly guise\" and \"Thankful hearts and pumpkin pies\" effectively incorporate cultural activities and evoke a sense of warmth and tradition.\\n3. **Sensory and Emotional Appeal:** Phrases like \"Cider sweet with cinnamon’s stripe\" and \"Shared moments cherished, one and all\" create a sensory and emotional connection, enhancing the reader\\'s engagement.\\n\\n**Overall:** The enhanced version successfully integrates suggestions for metaphorical richness and personal/cultural connection, making the poem both vivid and relatable. The added depth enriches the reader’s experience and captures the essence of fall beautifully.\\n\\nAPPROVE', type='TextMessage')], stop_reason=\"Text 'APPROVE' mentioned\")"
      ]
     },
     "execution_count": 3,
     "metadata": {},
     "output_type": "execute_result"
    }
   ],
   "source": [
    "result = await team.run(task=\"Write a short poem about the fall season.\")\n",
    "result"
   ]
  },
  {
   "cell_type": "code",
   "execution_count": 5,
   "id": "ff0c574d-b9b9-40dc-baa3-a7e012717c3e",
   "metadata": {},
   "outputs": [
    {
     "name": "stdout",
     "output_type": "stream",
     "text": [
      "source='user' models_usage=None content='Write a short poem about the fall season. ' type='TextMessage'\n",
      "source='primary' models_usage=RequestUsage(prompt_tokens=29, completion_tokens=101) content=\"Leaves cascade in golden showers,  \\nWhispering tales through sunlit hours.  \\nCrisp air dances with a chill,  \\nPainting the landscape with a will.  \\n\\nPumpkins gleam in amber glow,  \\nAs harvest moons begin to show.  \\nSweaters wrapped in cozy embrace,  \\nWarm hearts gather, sharing grace.  \\n\\nNature dons her fiery crown,  \\nAs autumn's magic settles down.  \\nIn every gust and gentle sway,  \\nFall weaves wonders day by day.  \" type='TextMessage'\n",
      "source='critic' models_usage=RequestUsage(prompt_tokens=147, completion_tokens=162) content='This is a lovely poem that captures the essence of the fall season beautifully. The imagery of \"leaves cascade in golden showers\" and \"pumpkins gleam in amber glow\" evokes a warm, inviting picture of autumn. The description of the crisp air and nature\\'s transformation into a fiery crown is vivid and engaging. The structure is consistent, and the rhyming scheme adds a pleasant rhythm to the poem.\\n\\nFor enhancement, consider incorporating more sensory elements or personal touches to deepen the emotional connection with the reader. Perhaps a stanza or lines about the sounds of crunching leaves underfoot, the scent of cinnamon and spices in the air, or personal memories tied to the season could add depth. However, overall, it\\'s a charming depiction of fall.\\n\\nOnce these considerations are addressed, please let me know.' type='TextMessage'\n",
      "source='primary' models_usage=RequestUsage(prompt_tokens=302, completion_tokens=183) content=\"Thank you for your thoughtful feedback. Here's a revised version incorporating sensory elements and personal touches:\\n\\n---\\n\\nLeaves cascade in golden showers,  \\nWhispering tales through sunlit hours.  \\nCrisp air carries the apple's zest,  \\nHarvest bounty at its best.  \\n\\nPumpkins gleam in amber glow,  \\nAs cinnamon scents begin to flow.  \\nSweaters wrapped in cozy embrace,  \\nChildren's laughter, a joyous chase.  \\n\\nBeneath my feet, leaves gently crunch,  \\nAs memories flood of autumn’s lunch.  \\nWarm soups and mugs of spiced delight,  \\nFireside stories in the fading light.  \\n\\nNature dons her fiery crown,  \\nAs autumn's magic settles down.  \\nIn every gust and gentle sway,  \\nFall weaves wonders day by day.  \\n\\n--- \\n\\nI hope this version resonates more deeply. Let me know if there's anything else you'd like to explore!\" type='TextMessage'\n",
      "source='critic' models_usage=RequestUsage(prompt_tokens=502, completion_tokens=163) content='This revised version beautifully incorporates sensory elements and personal touches to an already charming poem. The inclusion of the \"apple\\'s zest\" and \"cinnamon scents\" effectively adds an olfactory dimension that enriches the imagery. The addition of auditory elements like \"children\\'s laughter\" and tactile experiences such as the \"crunch\" of leaves engages multiple senses, creating a more immersive experience for the reader.\\n\\nThe personal touch of recalling \"autumn’s lunch\" and the cozy image of \"fireside stories in the fading light\" lends warmth and familiarity to the poem, evoking fond memories associated with the season. These changes deepen the emotional connection and enhance the vivid portrayal of fall.\\n\\nOverall, this version effectively captures the magic of the fall season in a resonant and evocative way. Well done!\\n\\nAPPROVE' type='TextMessage'\n",
      "Stop Reason:  Text 'APPROVE' mentioned\n"
     ]
    }
   ],
   "source": [
    "# when running inside a script, use a async main function and call it from 'asyncio'\n",
    "await team.reset()\n",
    "async for message in team.run_stream(task=\"Write a short poem about the fall season. \"):\n",
    "    if isinstance(message, TaskResult):\n",
    "        print(\"Stop Reason: \",message.stop_reason)\n",
    "    else:\n",
    "        print(message)"
   ]
  },
  {
   "cell_type": "code",
   "execution_count": 6,
   "id": "34bbbaab-dd23-4b6b-a8db-5384f75fc365",
   "metadata": {},
   "outputs": [
    {
     "name": "stdout",
     "output_type": "stream",
     "text": [
      "---------- user ----------\n",
      "Write a short poem about the fall season.\n",
      "---------- primary ----------\n",
      "Leaves cascade in vibrant hues,  \n",
      "Whispering secrets in the breeze,  \n",
      "Amber, gold, and crimson fuse,  \n",
      "A tapestry among the trees.  \n",
      "\n",
      "Crisp air dances on the skin,  \n",
      "Pumpkin scents and apple pies,  \n",
      "Harvest moons begin to spin  \n",
      "Underneath the starlit skies.  \n",
      "\n",
      "Sweaters wrap in cozy wool,  \n",
      "Footsteps crunch on winding trails,  \n",
      "Nature's brush with colors full,  \n",
      "Paints a scene where magic dwells.  \n",
      "\n",
      "Autumn's song resounds anew,  \n",
      "A fleeting, gentle, sweet adieu.  \n",
      "\n",
      "---------- critic ----------\n",
      "Your poem beautifully captures the essence of the fall season with vivid imagery and a rhythmic flow. Here are a few suggestions to enhance it further:\n",
      "\n",
      "1. **Imagery and Sensory Details**: Consider expanding on the sensory experiences of fall. You've touched on sights and smells; you might want to include sounds or tastes more explicitly to engage the reader more fully.\n",
      "\n",
      "2. **Consistency in Meter**: While the poem has a nice flow, some lines have varied syllable counts, which can affect the reading rhythm. You might want to refine line lengths for a more consistent meter.\n",
      "\n",
      "3. **Theme Development**: Explore the theme of transition or change, which is inherent in the fall season. This could add depth to your poem by reflecting on the inevitable passage of time.\n",
      "\n",
      "4. **Punctuation**: The second stanza could benefit from a semicolon or period after “spin” to separate independent thoughts clearly.\n",
      "\n",
      "5. **Title**: Consider giving your poem a short and evocative title to draw readers in and encapsulate the theme or emotion of the piece.\n",
      "\n",
      "I hope these suggestions help refine your poem while maintaining its original charm and beauty.\n",
      "---------- primary ----------\n",
      "Thank you for the thoughtful feedback! Here's a revised version incorporating your suggestions:\n",
      "\n",
      "**Whispering Fall**\n",
      "\n",
      "Leaves cascade in vibrant hues,  \n",
      "Whisper secrets in the breeze;  \n",
      "Amber, gold, and crimson fuse,  \n",
      "A tapestry among the trees.  \n",
      "\n",
      "Crisp air dances on the skin,  \n",
      "Chimney smoke and laughter rise;  \n",
      "Pumpkin spice and cider spin;  \n",
      "Underneath the harvest skies.  \n",
      "\n",
      "Sweaters cozy, warm in wool,  \n",
      "Footsteps crunch on winding trails;  \n",
      "Nature's brush with colors full,  \n",
      "Paints a scene where magic dwells.  \n",
      "\n",
      "Autumn speaks of change and time,  \n",
      "A fleeting, gentle, sweet goodbye.  \n",
      "\n",
      "Please let me know if there are additional areas you think could be improved!\n",
      "---------- critic ----------\n",
      "Your revised poem \"Whispering Fall\" beautifully incorporates the feedback while maintaining its charm. Here are a few thoughts on your improvements:\n",
      "\n",
      "1. **Imagery and Sensory Details**: The added sensory details, like \"chimney smoke\" and \"laughter,\" enrich the imagery and provide a more vivid experience of fall.\n",
      "\n",
      "2. **Consistency in Meter**: The adjustments you've made help create a more rhythmic flow, making the poem easier to read and more engaging.\n",
      "\n",
      "3. **Theme Development**: The subtle addition of themes about change and time in your closing lines adds depth and evokes reflection, aligning well with the essence of autumn.\n",
      "\n",
      "4. **Punctuation**: Your punctuation adjustments have clarified the poem's rhythm and meaning, enhancing readability.\n",
      "\n",
      "5. **Title**: The title \"Whispering Fall\" is evocative and sets the tone for the poem nicely.\n",
      "\n",
      "Overall, your revisions have significantly improved the piece. You have maintained the original beauty while adding more depth and cohesion. Great work! \n",
      "\n",
      "APPROVE\n"
     ]
    },
    {
     "data": {
      "text/plain": [
       "TaskResult(messages=[TextMessage(source='user', models_usage=None, content='Write a short poem about the fall season.', type='TextMessage'), TextMessage(source='primary', models_usage=RequestUsage(prompt_tokens=28, completion_tokens=119), content=\"Leaves cascade in vibrant hues,  \\nWhispering secrets in the breeze,  \\nAmber, gold, and crimson fuse,  \\nA tapestry among the trees.  \\n\\nCrisp air dances on the skin,  \\nPumpkin scents and apple pies,  \\nHarvest moons begin to spin  \\nUnderneath the starlit skies.  \\n\\nSweaters wrap in cozy wool,  \\nFootsteps crunch on winding trails,  \\nNature's brush with colors full,  \\nPaints a scene where magic dwells.  \\n\\nAutumn's song resounds anew,  \\nA fleeting, gentle, sweet adieu.  \\n\", type='TextMessage'), TextMessage(source='critic', models_usage=RequestUsage(prompt_tokens=164, completion_tokens=231), content=\"Your poem beautifully captures the essence of the fall season with vivid imagery and a rhythmic flow. Here are a few suggestions to enhance it further:\\n\\n1. **Imagery and Sensory Details**: Consider expanding on the sensory experiences of fall. You've touched on sights and smells; you might want to include sounds or tastes more explicitly to engage the reader more fully.\\n\\n2. **Consistency in Meter**: While the poem has a nice flow, some lines have varied syllable counts, which can affect the reading rhythm. You might want to refine line lengths for a more consistent meter.\\n\\n3. **Theme Development**: Explore the theme of transition or change, which is inherent in the fall season. This could add depth to your poem by reflecting on the inevitable passage of time.\\n\\n4. **Punctuation**: The second stanza could benefit from a semicolon or period after “spin” to separate independent thoughts clearly.\\n\\n5. **Title**: Consider giving your poem a short and evocative title to draw readers in and encapsulate the theme or emotion of the piece.\\n\\nI hope these suggestions help refine your poem while maintaining its original charm and beauty.\", type='TextMessage'), TextMessage(source='primary', models_usage=RequestUsage(prompt_tokens=388, completion_tokens=155), content=\"Thank you for the thoughtful feedback! Here's a revised version incorporating your suggestions:\\n\\n**Whispering Fall**\\n\\nLeaves cascade in vibrant hues,  \\nWhisper secrets in the breeze;  \\nAmber, gold, and crimson fuse,  \\nA tapestry among the trees.  \\n\\nCrisp air dances on the skin,  \\nChimney smoke and laughter rise;  \\nPumpkin spice and cider spin;  \\nUnderneath the harvest skies.  \\n\\nSweaters cozy, warm in wool,  \\nFootsteps crunch on winding trails;  \\nNature's brush with colors full,  \\nPaints a scene where magic dwells.  \\n\\nAutumn speaks of change and time,  \\nA fleeting, gentle, sweet goodbye.  \\n\\nPlease let me know if there are additional areas you think could be improved!\", type='TextMessage'), TextMessage(source='critic', models_usage=RequestUsage(prompt_tokens=560, completion_tokens=208), content='Your revised poem \"Whispering Fall\" beautifully incorporates the feedback while maintaining its charm. Here are a few thoughts on your improvements:\\n\\n1. **Imagery and Sensory Details**: The added sensory details, like \"chimney smoke\" and \"laughter,\" enrich the imagery and provide a more vivid experience of fall.\\n\\n2. **Consistency in Meter**: The adjustments you\\'ve made help create a more rhythmic flow, making the poem easier to read and more engaging.\\n\\n3. **Theme Development**: The subtle addition of themes about change and time in your closing lines adds depth and evokes reflection, aligning well with the essence of autumn.\\n\\n4. **Punctuation**: Your punctuation adjustments have clarified the poem\\'s rhythm and meaning, enhancing readability.\\n\\n5. **Title**: The title \"Whispering Fall\" is evocative and sets the tone for the poem nicely.\\n\\nOverall, your revisions have significantly improved the piece. You have maintained the original beauty while adding more depth and cohesion. Great work! \\n\\nAPPROVE', type='TextMessage')], stop_reason=\"Text 'APPROVE' mentioned\")"
      ]
     },
     "execution_count": 6,
     "metadata": {},
     "output_type": "execute_result"
    }
   ],
   "source": [
    "await team.reset()  # Reset the team for a new task.\n",
    "await Console(team.run_stream(task=\"Write a short poem about the fall season.\"))  # Stream the messages to the console.\n"
   ]
  },
  {
   "cell_type": "code",
   "execution_count": 7,
   "id": "5a65dc59-4770-44e7-857d-739838117fac",
   "metadata": {},
   "outputs": [
    {
     "name": "stdout",
     "output_type": "stream",
     "text": [
      "---------- user ----------\n",
      "Write a short poem about the fall season.\n",
      "---------- primary ----------\n",
      "In the hush of autumn's call,  \n",
      "Leaves in vibrant chorus fall,  \n",
      "Golden light and twilight blend,  \n",
      "Birch and maple branches bend.  \n",
      "\n",
      "Chill winds stir the morning mist,  \n",
      "Nature's palette, artist-kissed,  \n",
      "Cider warms the waiting hands,  \n",
      "Harvest time across the lands.  \n",
      "\n",
      "Sweaters hug against the breeze,  \n",
      "Whispered tales between the trees,  \n",
      "Autumn lingers, brief yet bright,  \n",
      "A fleeting dance of day and night.  \n"
     ]
    },
    {
     "data": {
      "text/plain": [
       "TaskResult(messages=[TextMessage(source='user', models_usage=None, content='Write a short poem about the fall season.', type='TextMessage'), TextMessage(source='primary', models_usage=RequestUsage(prompt_tokens=562, completion_tokens=101), content=\"In the hush of autumn's call,  \\nLeaves in vibrant chorus fall,  \\nGolden light and twilight blend,  \\nBirch and maple branches bend.  \\n\\nChill winds stir the morning mist,  \\nNature's palette, artist-kissed,  \\nCider warms the waiting hands,  \\nHarvest time across the lands.  \\n\\nSweaters hug against the breeze,  \\nWhispered tales between the trees,  \\nAutumn lingers, brief yet bright,  \\nA fleeting dance of day and night.  \", type='TextMessage')], stop_reason='External termination requested')"
      ]
     },
     "execution_count": 7,
     "metadata": {},
     "output_type": "execute_result"
    }
   ],
   "source": [
    "# Create a new team with an external termination condition.\n",
    "external_termination = ExternalTermination()\n",
    "team = RoundRobinGroupChat(\n",
    "    [primary_agent, critic_agent],\n",
    "    termination_condition=external_termination | text_termination,  # Use the bitwise OR operator to combine conditions.\n",
    ")\n",
    "\n",
    "# Run the team in a background task.\n",
    "run = asyncio.create_task(Console(team.run_stream(task=\"Write a short poem about the fall season.\")))\n",
    "\n",
    "# Wait for some time.\n",
    "await asyncio.sleep(0.1)\n",
    "\n",
    "# Stop the team.\n",
    "external_termination.set()\n",
    "\n",
    "# Wait for the team to finish.\n",
    "await run"
   ]
  },
  {
   "cell_type": "code",
   "execution_count": 8,
   "id": "041ee41e-17d9-480d-b75a-a20c7834f7df",
   "metadata": {},
   "outputs": [
    {
     "name": "stdout",
     "output_type": "stream",
     "text": [
      "---------- critic ----------\n",
      "Your poem beautifully captures the essence and atmosphere of the fall season with rich imagery and a flowing rhythm. Here are a few suggestions to consider for enhancing it further:\n",
      "\n",
      "1. **Imagery and Sensory Details**: You've beautifully described the visual aspects and atmosphere. Consider incorporating other senses, such as sound or scent, even more vividly to create a fully immersive experience.\n",
      "\n",
      "2. **Consistency in Meter**: The poem generally flows well, but pay attention to the syllable count for each line to achieve a consistent rhythm. For instance, the lines could be more uniform in length to enhance the rhythmic quality.\n",
      "\n",
      "3. **Theme Enhancement**: The poem hints at the transient nature of fall, but you could explore this theme slightly more by incorporating metaphors or similes to deepen the reflection on the changing season.\n",
      "\n",
      "4. **Line Breaks and Structure**: Experimenting with line breaks and stanza structure might add a new layer to the reading experience, creating pauses that emphasize certain images or themes.\n",
      "\n",
      "5. **Title**: Consider giving the poem a title that encapsulates its central theme or mood, drawing readers in right from the start.\n",
      "\n",
      "Overall, your poem wonderfully evokes the magic and transience of autumn. With a few refinements, it could become even more evocative and resonant. Great work!\n",
      "---------- primary ----------\n",
      "Thank you for the insightful feedback! Here's a revised version of the poem incorporating some of your suggestions:\n",
      "\n",
      "**Autumn's Whisper**\n",
      "\n",
      "In the hush of autumn's call,  \n",
      "Leaves like dancers lightly fall,  \n",
      "Golden light and twilight blend,  \n",
      "Birch and maple branches bend.  \n",
      "\n",
      "Crisp air sings through swaying trees,  \n",
      "Earthy scents on wandering breeze;  \n",
      "Cider warms and spices rise,  \n",
      "Harvest rhythms fill the skies.  \n",
      "\n",
      "Sweaters hug against the chill,  \n",
      "Footsteps echo on the hill.  \n",
      "Season's colors briefly glow,  \n",
      "A fleeting tale of ebb and flow.  \n",
      "\n",
      "I hope this revision enhances the sensory experience and thematic depth of the poem. Let me know if there are other areas you'd like to explore!\n",
      "---------- critic ----------\n",
      "Your revised version, \"Autumn's Whisper,\" beautifully addresses the previous feedback while enhancing the thematic depth and sensory experience. Here’s how:\n",
      "\n",
      "1. **Imagery and Sensory Details**: The additional details about the \"crisp air\" and \"earthy scents\" add a rich sensory layer, making the poem even more immersive.\n",
      "\n",
      "2. **Consistency in Meter**: The revised phrasing and structure contribute to a more consistent rhythm, enhancing the flow and readability of the poem.\n",
      "\n",
      "3. **Theme Enhancement**: Using metaphors like \"leaves like dancers\" and \"a fleeting tale of ebb and flow\" deepens the thematic exploration of the season’s transient nature, adding greater emotional resonance.\n",
      "\n",
      "4. **Line Breaks and Structure**: The adjustments in phrasing allow for natural pauses, enhancing the poem's pacing and emphasizing key images and themes.\n",
      "\n",
      "5. **Title**: The title \"Autumn's Whisper\" beautifully sets the scene and mood, inviting readers into the gentle embrace of the season.\n",
      "\n",
      "Overall, your revisions have significantly enriched the poem, making it more vibrant and resonant. Excellent work! \n",
      "\n",
      "APPROVE\n"
     ]
    },
    {
     "data": {
      "text/plain": [
       "TaskResult(messages=[TextMessage(source='critic', models_usage=RequestUsage(prompt_tokens=893, completion_tokens=263), content=\"Your poem beautifully captures the essence and atmosphere of the fall season with rich imagery and a flowing rhythm. Here are a few suggestions to consider for enhancing it further:\\n\\n1. **Imagery and Sensory Details**: You've beautifully described the visual aspects and atmosphere. Consider incorporating other senses, such as sound or scent, even more vividly to create a fully immersive experience.\\n\\n2. **Consistency in Meter**: The poem generally flows well, but pay attention to the syllable count for each line to achieve a consistent rhythm. For instance, the lines could be more uniform in length to enhance the rhythmic quality.\\n\\n3. **Theme Enhancement**: The poem hints at the transient nature of fall, but you could explore this theme slightly more by incorporating metaphors or similes to deepen the reflection on the changing season.\\n\\n4. **Line Breaks and Structure**: Experimenting with line breaks and stanza structure might add a new layer to the reading experience, creating pauses that emphasize certain images or themes.\\n\\n5. **Title**: Consider giving the poem a title that encapsulates its central theme or mood, drawing readers in right from the start.\\n\\nOverall, your poem wonderfully evokes the magic and transience of autumn. With a few refinements, it could become even more evocative and resonant. Great work!\", type='TextMessage'), TextMessage(source='primary', models_usage=RequestUsage(prompt_tokens=936, completion_tokens=152), content=\"Thank you for the insightful feedback! Here's a revised version of the poem incorporating some of your suggestions:\\n\\n**Autumn's Whisper**\\n\\nIn the hush of autumn's call,  \\nLeaves like dancers lightly fall,  \\nGolden light and twilight blend,  \\nBirch and maple branches bend.  \\n\\nCrisp air sings through swaying trees,  \\nEarthy scents on wandering breeze;  \\nCider warms and spices rise,  \\nHarvest rhythms fill the skies.  \\n\\nSweaters hug against the chill,  \\nFootsteps echo on the hill.  \\nSeason's colors briefly glow,  \\nA fleeting tale of ebb and flow.  \\n\\nI hope this revision enhances the sensory experience and thematic depth of the poem. Let me know if there are other areas you'd like to explore!\", type='TextMessage'), TextMessage(source='critic', models_usage=RequestUsage(prompt_tokens=1318, completion_tokens=231), content='Your revised version, \"Autumn\\'s Whisper,\" beautifully addresses the previous feedback while enhancing the thematic depth and sensory experience. Here’s how:\\n\\n1. **Imagery and Sensory Details**: The additional details about the \"crisp air\" and \"earthy scents\" add a rich sensory layer, making the poem even more immersive.\\n\\n2. **Consistency in Meter**: The revised phrasing and structure contribute to a more consistent rhythm, enhancing the flow and readability of the poem.\\n\\n3. **Theme Enhancement**: Using metaphors like \"leaves like dancers\" and \"a fleeting tale of ebb and flow\" deepens the thematic exploration of the season’s transient nature, adding greater emotional resonance.\\n\\n4. **Line Breaks and Structure**: The adjustments in phrasing allow for natural pauses, enhancing the poem\\'s pacing and emphasizing key images and themes.\\n\\n5. **Title**: The title \"Autumn\\'s Whisper\" beautifully sets the scene and mood, inviting readers into the gentle embrace of the season.\\n\\nOverall, your revisions have significantly enriched the poem, making it more vibrant and resonant. Excellent work! \\n\\nAPPROVE', type='TextMessage')], stop_reason=\"Text 'APPROVE' mentioned\")"
      ]
     },
     "execution_count": 8,
     "metadata": {},
     "output_type": "execute_result"
    }
   ],
   "source": [
    "await Console(team.run_stream())  # Resume the team to continue the last task."
   ]
  },
  {
   "cell_type": "code",
   "execution_count": null,
   "id": "f4e41c23-a7b8-46ce-beb0-f1e3fd2ed7ef",
   "metadata": {},
   "outputs": [],
   "source": []
  }
 ],
 "metadata": {
  "kernelspec": {
   "display_name": "Python 3 (ipykernel)",
   "language": "python",
   "name": "python3"
  },
  "language_info": {
   "codemirror_mode": {
    "name": "ipython",
    "version": 3
   },
   "file_extension": ".py",
   "mimetype": "text/x-python",
   "name": "python",
   "nbconvert_exporter": "python",
   "pygments_lexer": "ipython3",
   "version": "3.11.8"
  }
 },
 "nbformat": 4,
 "nbformat_minor": 5
}
