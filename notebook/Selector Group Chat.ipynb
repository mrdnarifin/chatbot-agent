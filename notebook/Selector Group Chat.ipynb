{
 "cells": [
  {
   "cell_type": "code",
   "execution_count": 2,
   "id": "1a31637e-3206-400a-a81a-4df9f5bd98e9",
   "metadata": {},
   "outputs": [],
   "source": [
    "from typing import Sequence\n",
    "\n",
    "from autogen_agentchat.agents import AssistantAgent\n",
    "from autogen_agentchat.conditions import MaxMessageTermination, TextMentionTermination\n",
    "from autogen_agentchat.messages import AgentEvent, ChatMessage\n",
    "from autogen_agentchat.teams import SelectorGroupChat\n",
    "from autogen_agentchat.ui import Console\n",
    "from autogen_ext.models.openai import OpenAIChatCompletionClient"
   ]
  },
  {
   "cell_type": "code",
   "execution_count": 3,
   "id": "2332470a-d6c4-4717-99b1-a74424b45338",
   "metadata": {},
   "outputs": [],
   "source": [
    "# Note: This example uses mock tools instead of real APIs for demonstration purposes\n",
    "def search_web_tool(query: str) -> str:\n",
    "    if \"2006-2007\" in query:\n",
    "        return \"\"\"Here are the total points scored by Miami Heat players in the 2006-2007 season:\n",
    "        Udonis Haslem: 844 points\n",
    "        Dwayne Wade: 1397 points\n",
    "        James Posey: 550 points\n",
    "        ...\n",
    "        \"\"\"\n",
    "    elif \"2007-2008\" in query:\n",
    "        return \"The number of total rebounds for Dwayne Wade in the Miami Heat season 2007-2008 is 214.\"\n",
    "    elif \"2008-2009\" in query:\n",
    "        return \"The number of total rebounds for Dwayne Wade in the Miami Heat season 2008-2009 is 398.\"\n",
    "    return \"No data found.\"\n",
    "\n",
    "\n",
    "def percentage_change_tool(start: float, end: float) -> float:\n",
    "    return ((end - start) / start) * 100"
   ]
  },
  {
   "cell_type": "code",
   "execution_count": 7,
   "id": "db064fb2-9b78-4945-a970-bb9169f14c7a",
   "metadata": {},
   "outputs": [],
   "source": [
    "model_client = OpenAIChatCompletionClient(model=\"gpt-4o\")\n",
    "\n",
    "planning_agent = AssistantAgent(\n",
    "    \"PlanningAgent\",\n",
    "    description=\"An agent for planning tasks, this agent should be the first to engage when given a new task.\",\n",
    "    model_client=model_client,\n",
    "    reflect_on_tool_use=True,\n",
    "    \n",
    "    system_message=\"\"\"\n",
    "    You are a planning agent.\n",
    "    Your job is to break down complex tasks into smaller, manageable subtasks.\n",
    "    Your team members are:\n",
    "        Web search agent: Searches for information\n",
    "        Data analyst: Performs calculations\n",
    "\n",
    "    You only plan and delegate tasks - you do not execute them yourself.\n",
    "\n",
    "    When assigning tasks, use this format:\n",
    "    1. <agent> : <task>\n",
    "\n",
    "    After all tasks are complete, summarize the findings and end with \"TERMINATE\".\n",
    "    \"\"\",\n",
    ")\n",
    "\n",
    "web_search_agent = AssistantAgent(\n",
    "    \"WebSearchAgent\",\n",
    "    reflect_on_tool_use=True,\n",
    "    description=\"A web search agent.\",\n",
    "    tools=[search_web_tool],\n",
    "    model_client=model_client,\n",
    "    system_message=\"\"\"\n",
    "    You are a web search agent.\n",
    "    Your only tool is search_tool - use it to find information.\n",
    "    You make only one search call at a time.\n",
    "    Once you have the results, you never do calculations based on them.\n",
    "    \"\"\",\n",
    ")\n",
    "\n",
    "data_analyst_agent = AssistantAgent(\n",
    "    \"DataAnalystAgent\",\n",
    "    reflect_on_tool_use=True,\n",
    "    description=\"A data analyst agent. Useful for performing calculations.\",\n",
    "    model_client=model_client,\n",
    "    tools=[percentage_change_tool],\n",
    "    system_message=\"\"\"\n",
    "    You are a data analyst.\n",
    "    Given the tasks you have been assigned, you should analyze the data and provide results using the tools provided.\n",
    "    \"\"\",\n",
    ")"
   ]
  },
  {
   "cell_type": "code",
   "execution_count": 8,
   "id": "487dc2e8-94dd-4c57-a81e-6a8a25b8eda4",
   "metadata": {},
   "outputs": [],
   "source": [
    "text_mention_termination = TextMentionTermination(\"TERMINATE\")\n",
    "max_messages_termination = MaxMessageTermination(max_messages=25)\n",
    "termination = text_mention_termination | max_messages_termination\n",
    "\n",
    "team = SelectorGroupChat(\n",
    "    [planning_agent, web_search_agent, data_analyst_agent],\n",
    "    model_client=OpenAIChatCompletionClient(model=\"gpt-4o-mini\"),\n",
    "    termination_condition=termination,\n",
    ")"
   ]
  },
  {
   "cell_type": "code",
   "execution_count": 9,
   "id": "8931f7f4-fd4a-49a0-b49e-4bbcf360d259",
   "metadata": {},
   "outputs": [
    {
     "name": "stdout",
     "output_type": "stream",
     "text": [
      "---------- user ----------\n",
      "Who was the Miami Heat player with the highest points in the 2006-2007 season, and what was the percentage change in his total rebounds between the 2007-2008 and 2008-2009 seasons?\n",
      "---------- PlanningAgent ----------\n",
      "To answer this question, we need to follow these steps:\n",
      "\n",
      "1. Identify the Miami Heat player with the highest points in the 2006-2007 season.\n",
      "2. Determine the total rebounds for this player in both the 2007-2008 and 2008-2009 seasons.\n",
      "3. Calculate the percentage change in total rebounds between these two seasons.\n",
      "\n",
      "Let's start by assigning tasks:\n",
      "\n",
      "1. Web search agent: Identify the Miami Heat player with the highest points in the 2006-2007 season.\n",
      "2. Web search agent: Determine the total rebounds for this player during the 2007-2008 season.\n",
      "3. Web search agent: Determine the total rebounds for this player during the 2008-2009 season.\n",
      "4. Data analyst: Calculate the percentage change in total rebounds between the 2007-2008 and 2008-2009 seasons.\n",
      "---------- WebSearchAgent ----------\n",
      "[FunctionCall(id='call_cOF7dSGQUOgtj48YfGw5YkVq', arguments='{\"query\": \"Miami Heat highest points player 2006-2007 season\"}', name='search_web_tool'), FunctionCall(id='call_PTXq1nOWLyV19vyCKG1LjNOU', arguments='{\"query\": \"Miami Heat player 2007-2008 season total rebounds\"}', name='search_web_tool'), FunctionCall(id='call_D4agO1Lo2xmpPr2SJtpj3vIK', arguments='{\"query\": \"Miami Heat player 2008-2009 season total rebounds\"}', name='search_web_tool')]\n",
      "---------- WebSearchAgent ----------\n",
      "[FunctionExecutionResult(content='Here are the total points scored by Miami Heat players in the 2006-2007 season:\\n        Udonis Haslem: 844 points\\n        Dwayne Wade: 1397 points\\n        James Posey: 550 points\\n        ...\\n        ', call_id='call_cOF7dSGQUOgtj48YfGw5YkVq'), FunctionExecutionResult(content='The number of total rebounds for Dwayne Wade in the Miami Heat season 2007-2008 is 214.', call_id='call_PTXq1nOWLyV19vyCKG1LjNOU'), FunctionExecutionResult(content='The number of total rebounds for Dwayne Wade in the Miami Heat season 2008-2009 is 398.', call_id='call_D4agO1Lo2xmpPr2SJtpj3vIK')]\n",
      "---------- WebSearchAgent ----------\n",
      "The Miami Heat player with the highest points in the 2006-2007 season was Dwyane Wade, with 1,397 points.\n",
      "\n",
      "- Dwyane Wade's total rebounds in the 2007-2008 season: 214\n",
      "- Dwyane Wade's total rebounds in the 2008-2009 season: 398\n",
      "\n",
      "Now, the next step is to calculate the percentage change in total rebounds between these two seasons.\n",
      "---------- DataAnalystAgent ----------\n",
      "[FunctionCall(id='call_bd1187C3Zsx8zNP6VYyDfI5z', arguments='{\"start\":214,\"end\":398}', name='percentage_change_tool')]\n",
      "---------- DataAnalystAgent ----------\n",
      "[FunctionExecutionResult(content='85.98130841121495', call_id='call_bd1187C3Zsx8zNP6VYyDfI5z')]\n",
      "---------- DataAnalystAgent ----------\n",
      "Dwyane Wade was the Miami Heat player with the highest points in the 2006-2007 season, scoring 1,397 points. The percentage change in his total rebounds between the 2007-2008 season (214 rebounds) and the 2008-2009 season (398 rebounds) was approximately 85.98%.\n",
      "---------- PlanningAgent ----------\n",
      "Dwyane Wade was the Miami Heat player with the highest points in the 2006-2007 season, scoring 1,397 points. The percentage change in his total rebounds from the 2007-2008 season (214 rebounds) to the 2008-2009 season (398 rebounds) was approximately 85.98%.\n",
      "\n",
      "TERMINATE\n"
     ]
    },
    {
     "data": {
      "text/plain": [
       "TaskResult(messages=[TextMessage(source='user', models_usage=None, content='Who was the Miami Heat player with the highest points in the 2006-2007 season, and what was the percentage change in his total rebounds between the 2007-2008 and 2008-2009 seasons?', type='TextMessage'), TextMessage(source='PlanningAgent', models_usage=RequestUsage(prompt_tokens=159, completion_tokens=181), content=\"To answer this question, we need to follow these steps:\\n\\n1. Identify the Miami Heat player with the highest points in the 2006-2007 season.\\n2. Determine the total rebounds for this player in both the 2007-2008 and 2008-2009 seasons.\\n3. Calculate the percentage change in total rebounds between these two seasons.\\n\\nLet's start by assigning tasks:\\n\\n1. Web search agent: Identify the Miami Heat player with the highest points in the 2006-2007 season.\\n2. Web search agent: Determine the total rebounds for this player during the 2007-2008 season.\\n3. Web search agent: Determine the total rebounds for this player during the 2008-2009 season.\\n4. Data analyst: Calculate the percentage change in total rebounds between the 2007-2008 and 2008-2009 seasons.\", type='TextMessage'), ToolCallRequestEvent(source='WebSearchAgent', models_usage=RequestUsage(prompt_tokens=329, completion_tokens=95), content=[FunctionCall(id='call_cOF7dSGQUOgtj48YfGw5YkVq', arguments='{\"query\": \"Miami Heat highest points player 2006-2007 season\"}', name='search_web_tool'), FunctionCall(id='call_PTXq1nOWLyV19vyCKG1LjNOU', arguments='{\"query\": \"Miami Heat player 2007-2008 season total rebounds\"}', name='search_web_tool'), FunctionCall(id='call_D4agO1Lo2xmpPr2SJtpj3vIK', arguments='{\"query\": \"Miami Heat player 2008-2009 season total rebounds\"}', name='search_web_tool')], type='ToolCallRequestEvent'), ToolCallExecutionEvent(source='WebSearchAgent', models_usage=None, content=[FunctionExecutionResult(content='Here are the total points scored by Miami Heat players in the 2006-2007 season:\\n        Udonis Haslem: 844 points\\n        Dwayne Wade: 1397 points\\n        James Posey: 550 points\\n        ...\\n        ', call_id='call_cOF7dSGQUOgtj48YfGw5YkVq'), FunctionExecutionResult(content='The number of total rebounds for Dwayne Wade in the Miami Heat season 2007-2008 is 214.', call_id='call_PTXq1nOWLyV19vyCKG1LjNOU'), FunctionExecutionResult(content='The number of total rebounds for Dwayne Wade in the Miami Heat season 2008-2009 is 398.', call_id='call_D4agO1Lo2xmpPr2SJtpj3vIK')], type='ToolCallExecutionEvent'), TextMessage(source='WebSearchAgent', models_usage=RequestUsage(prompt_tokens=513, completion_tokens=92), content=\"The Miami Heat player with the highest points in the 2006-2007 season was Dwyane Wade, with 1,397 points.\\n\\n- Dwyane Wade's total rebounds in the 2007-2008 season: 214\\n- Dwyane Wade's total rebounds in the 2008-2009 season: 398\\n\\nNow, the next step is to calculate the percentage change in total rebounds between these two seasons.\", type='TextMessage'), ToolCallRequestEvent(source='DataAnalystAgent', models_usage=RequestUsage(prompt_tokens=418, completion_tokens=21), content=[FunctionCall(id='call_bd1187C3Zsx8zNP6VYyDfI5z', arguments='{\"start\":214,\"end\":398}', name='percentage_change_tool')], type='ToolCallRequestEvent'), ToolCallExecutionEvent(source='DataAnalystAgent', models_usage=None, content=[FunctionExecutionResult(content='85.98130841121495', call_id='call_bd1187C3Zsx8zNP6VYyDfI5z')], type='ToolCallExecutionEvent'), TextMessage(source='DataAnalystAgent', models_usage=RequestUsage(prompt_tokens=417, completion_tokens=71), content='Dwyane Wade was the Miami Heat player with the highest points in the 2006-2007 season, scoring 1,397 points. The percentage change in his total rebounds between the 2007-2008 season (214 rebounds) and the 2008-2009 season (398 rebounds) was approximately 85.98%.', type='TextMessage'), TextMessage(source='PlanningAgent', models_usage=RequestUsage(prompt_tokens=524, completion_tokens=74), content='Dwyane Wade was the Miami Heat player with the highest points in the 2006-2007 season, scoring 1,397 points. The percentage change in his total rebounds from the 2007-2008 season (214 rebounds) to the 2008-2009 season (398 rebounds) was approximately 85.98%.\\n\\nTERMINATE', type='TextMessage')], stop_reason=\"Text 'TERMINATE' mentioned\")"
      ]
     },
     "execution_count": 9,
     "metadata": {},
     "output_type": "execute_result"
    }
   ],
   "source": [
    "task = \"Who was the Miami Heat player with the highest points in the 2006-2007 season, and what was the percentage change in his total rebounds between the 2007-2008 and 2008-2009 seasons?\"\n",
    "\n",
    "# Use asyncio.run(...) if you are running this in a script.\n",
    "await Console(team.run_stream(task=task))"
   ]
  },
  {
   "cell_type": "code",
   "execution_count": null,
   "id": "28a6baf3-b84f-4274-8e25-97523e3433e2",
   "metadata": {},
   "outputs": [],
   "source": []
  }
 ],
 "metadata": {
  "kernelspec": {
   "display_name": "Python 3 (ipykernel)",
   "language": "python",
   "name": "python3"
  },
  "language_info": {
   "codemirror_mode": {
    "name": "ipython",
    "version": 3
   },
   "file_extension": ".py",
   "mimetype": "text/x-python",
   "name": "python",
   "nbconvert_exporter": "python",
   "pygments_lexer": "ipython3",
   "version": "3.11.8"
  }
 },
 "nbformat": 4,
 "nbformat_minor": 5
}
