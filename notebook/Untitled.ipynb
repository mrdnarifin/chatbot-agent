{
 "cells": [
  {
   "cell_type": "code",
   "execution_count": 1,
   "id": "cdf63b0d-edbf-4b1d-9b68-39e6adcc7c3e",
   "metadata": {},
   "outputs": [],
   "source": [
    "import asyncio\n",
    "\n",
    "from autogen_ext.models.openai import OpenAIChatCompletionClient\n",
    "from autogen_agentchat.agents import AssistantAgent\n",
    "from autogen_agentchat.teams import MagenticOneGroupChat\n",
    "from autogen_agentchat.ui import Console"
   ]
  },
  {
   "cell_type": "code",
   "execution_count": 5,
   "id": "cd4cace0-d936-428d-ae90-23651a3c06ce",
   "metadata": {},
   "outputs": [],
   "source": [
    "async def main() -> None:\n",
    "    model_client = OpenAIChatCompletionClient(model=\"gpt-4o\")\n",
    "    assistant = AssistantAgent(\n",
    "        \"assistant\",\n",
    "        model_client=model_client,\n",
    "    )\n",
    "    team = MagenticOneGroupChat([assistant],model_client=model_client)\n",
    "    await Console(team.run_stream(task=\"Provide a different proof for Fermat's Last Theorm\"), output_states=True)"
   ]
  },
  {
   "cell_type": "code",
   "execution_count": 6,
   "id": "b5554f1b-6114-4f28-8cdc-2415c44d372d",
   "metadata": {},
   "outputs": [
    {
     "ename": "TypeError",
     "evalue": "Console() got an unexpected keyword argument 'output_states'",
     "output_type": "error",
     "traceback": [
      "\u001b[1;31m---------------------------------------------------------------------------\u001b[0m",
      "\u001b[1;31mTypeError\u001b[0m                                 Traceback (most recent call last)",
      "Cell \u001b[1;32mIn[6], line 1\u001b[0m\n\u001b[1;32m----> 1\u001b[0m \u001b[38;5;28;01mawait\u001b[39;00m main()\n",
      "Cell \u001b[1;32mIn[5], line 8\u001b[0m, in \u001b[0;36mmain\u001b[1;34m()\u001b[0m\n\u001b[0;32m      3\u001b[0m assistant \u001b[38;5;241m=\u001b[39m AssistantAgent(\n\u001b[0;32m      4\u001b[0m     \u001b[38;5;124m\"\u001b[39m\u001b[38;5;124massistant\u001b[39m\u001b[38;5;124m\"\u001b[39m,\n\u001b[0;32m      5\u001b[0m     model_client\u001b[38;5;241m=\u001b[39mmodel_client,\n\u001b[0;32m      6\u001b[0m )\n\u001b[0;32m      7\u001b[0m team \u001b[38;5;241m=\u001b[39m MagenticOneGroupChat([assistant],model_client\u001b[38;5;241m=\u001b[39mmodel_client)\n\u001b[1;32m----> 8\u001b[0m \u001b[38;5;28;01mawait\u001b[39;00m \u001b[43mConsole\u001b[49m\u001b[43m(\u001b[49m\u001b[43mteam\u001b[49m\u001b[38;5;241;43m.\u001b[39;49m\u001b[43mrun_stream\u001b[49m\u001b[43m(\u001b[49m\u001b[43mtask\u001b[49m\u001b[38;5;241;43m=\u001b[39;49m\u001b[38;5;124;43m\"\u001b[39;49m\u001b[38;5;124;43mProvide a different proof for Fermat\u001b[39;49m\u001b[38;5;124;43m'\u001b[39;49m\u001b[38;5;124;43ms Last Theorm\u001b[39;49m\u001b[38;5;124;43m\"\u001b[39;49m\u001b[43m)\u001b[49m\u001b[43m,\u001b[49m\u001b[43m \u001b[49m\u001b[43moutput_states\u001b[49m\u001b[38;5;241;43m=\u001b[39;49m\u001b[38;5;28;43;01mTrue\u001b[39;49;00m\u001b[43m)\u001b[49m\n",
      "\u001b[1;31mTypeError\u001b[0m: Console() got an unexpected keyword argument 'output_states'"
     ]
    }
   ],
   "source": [
    "await main()"
   ]
  },
  {
   "cell_type": "code",
   "execution_count": null,
   "id": "665f502e-d929-4eb3-af69-d05e4f023e0d",
   "metadata": {},
   "outputs": [],
   "source": [
    "import asyncio\n",
    "from autogen_ext.models.openai import OpenAIChatCompletionClient\n",
    "from autogen_agentchat.teams import MagenticOneGroupChat\n",
    "from autogen_agentchat.ui import Console\n",
    "from autogen_ext.agents.web_surfer import MultimodalWebSurfer\n",
    "\n",
    "\n",
    "async def main() -> None:\n",
    "    model_client = OpenAIChatCompletionClient(model=\"gpt-4o\")\n",
    "\n",
    "    surfer = MultimodalWebSurfer(\n",
    "        \"WebSurfer\",\n",
    "        model_client=model_client,\n",
    "    )\n",
    "    team = MagenticOneGroupChat([surfer], model_client=model_client)\n",
    "    await Console(team.run_stream(task=\"What is the UV index in Melbourne today?\"))\n",
    "\n",
    "\n",
    "asyncio.run(main())"
   ]
  }
 ],
 "metadata": {
  "kernelspec": {
   "display_name": "Python 3 (ipykernel)",
   "language": "python",
   "name": "python3"
  },
  "language_info": {
   "codemirror_mode": {
    "name": "ipython",
    "version": 3
   },
   "file_extension": ".py",
   "mimetype": "text/x-python",
   "name": "python",
   "nbconvert_exporter": "python",
   "pygments_lexer": "ipython3",
   "version": "3.11.8"
  }
 },
 "nbformat": 4,
 "nbformat_minor": 5
}
